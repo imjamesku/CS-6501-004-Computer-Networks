{
 "cells": [
  {
   "cell_type": "markdown",
   "metadata": {},
   "source": [
    "# Assignment 3: Network Security - Portscan"
   ]
  },
  {
   "cell_type": "markdown",
   "metadata": {},
   "source": [
    "Network operators actively monitor their networks to protect against various intrusion attacks. Network attackers often perform random \"portscans\" of IP addresses to find vulnerable machines to compromise. Network Intrusion Detection Systems (NIDS) attempt to detect such behavior and flag these portscanners as malicious. \n",
    "\n",
    "In this assignment, you will analyze the NetFlow network measurement data to identify potentially malicious traffic sent to a campus network. You will then simulate an online algorithm for identifying malicious remote hosts.\n",
    "\n",
    "This notebook has several parts. Each part contains sections marked TODO that you need to complete."
   ]
  },
  {
   "cell_type": "markdown",
   "metadata": {},
   "source": [
    "**Name: Jia-Jiun Ku**\n",
    "\n",
    "**Computing ID: jk2mf**"
   ]
  },
  {
   "cell_type": "markdown",
   "metadata": {},
   "source": [
    "### Parsing IPFIX Data\n",
    "The `netflow.csv` file contains pre-processed netflow data from a campus network border router. The data is \"unsampled,\" i.e. it compiles flow statistics for every packet that traverses any interface on the border router.  We used the `nfdump` tool to process the raw NetFlow data that the router collected. Each row of the `netflow.csv` file, except for the header on top, logs the following information for a flow:\n",
    "\n",
    "```\n",
    "Date first seen, Time first seen (m:s), Date last seen, Time last seen (m:s), Duration (s), Protocol, \n",
    "Src IP addr, Src port, Dst IP addr, Dst port, Packets, Bytes, Flags, Input interface, Output interface\t\t\n",
    "\n",
    "```\n",
    "\n",
    "To analyze this data, we first need to read it into a python data structure.  The following code uses the built-in `csv` library to read `netflow.csv` into a list of dictionaries.  The `csv` library documentation is here if you are interested: https://docs.python.org/3/library/csv.html"
   ]
  },
  {
   "cell_type": "code",
   "execution_count": 1,
   "metadata": {},
   "outputs": [
    {
     "name": "stdout",
     "output_type": "stream",
     "text": "Number of flow records: 105360\nSample flow entry: OrderedDict([('Date first seen', '10/29/15'), ('Time first seen (m:s)', '04:48.9'), ('Date last seen', '10/29/15'), ('Time last seen (m:s)', '04:48.9'), ('Duration (s)', '0'), ('Protocol', 'ICMP'), ('Src IP addr', '172.16.241.1'), ('Src port', '0'), ('Dst IP addr', '128.112.213.189'), ('Dst port', '11'), ('Packets', '1'), ('Bytes', '94'), ('Flags', '.A....'), ('Input interface', '120'), ('Output interface', '0')])\n"
    }
   ],
   "source": [
    "\n",
    "import csv\n",
    "\n",
    "with open('netflow.csv', 'r') as netflow_file:\n",
    "    netflow_reader = csv.DictReader(netflow_file)\n",
    "    netflow_data = list(netflow_reader)\n",
    "    \n",
    "print(\"Number of flow records: {}\".format(len(netflow_data)))\n",
    "print(\"Sample flow entry: {}\".format(netflow_data[0]))"
   ]
  },
  {
   "cell_type": "markdown",
   "metadata": {},
   "source": [
    "## ** Part A: TCP SYN Scan Detection**\n",
    "\n",
    "In this part of the assignment, you will analyze TCP flow records to look for a TCP SYN scan attack. A [TCP SYN scan](https://en.wikipedia.org/wiki/Port_scanner#SYN_scanning) involves sending a TCP SYN packet to many different destinations to discover vulnerable machines on the network with open ports"
   ]
  },
  {
   "cell_type": "markdown",
   "metadata": {},
   "source": [
    "### Background"
   ]
  },
  {
   "cell_type": "markdown",
   "metadata": {},
   "source": [
    "Abnormal activities are often difficult to detect amongst the amount of legitimate traffic that is typically found in a large enterprise network. Malicious hosts might not show up in lists of the top senders (either by bytes or by flows), and it can be difficult to determine the exact nature of attack traffic in advance. \n",
    "\n",
    "However, certain types of attacks have characteristic features that simplify their detection. For example, many attackers attempt to detect hosts running vulnerable services by scanning the address space using TCP SYN packets.  If a NetFlow record indicates that a flow contained a TCP SYN packet _but no packets with the ACK flag set_, we can conclude that this flow never completed and thus may be part of a TCP SYN scan---particularly if there are a lot of these flows.\n",
    "\n",
    "When an attacker sends a TCP SYN packet as part of a TCP SYN scan, there are three possible outcomes:\n",
    "- There is an active host at the destination IP address that is listening on the destination port of the SYN packet. In this case, the NetFlow record will contain both the TCP SYN and ACK flags in the flow record. These flows are difficult to distinguish from legitimate flows, because in this case a host actually answered the initial SYN. \n",
    "- There is no active host on the network at the destination IP address. In this case, we will only see TCP SYN flag. This is very different from the legitimate traffic behavior. It should be possible to identify malicious scanners by identifying these flows.\n",
    "- The destination is alive, but the port to which the SYN is sent is closed. If a client connects to a server's non-listening port, the server will send back a RST/ACK packet. According to normal TCP implementation guidelines, the scanner will immediately stop any TCP connection attempts once it receives a RST. Like in the previous case, the NetFlow record will show SYN requests from the scanner host to the destination host but no SYN/ACK packets in response."
   ]
  },
  {
   "cell_type": "markdown",
   "metadata": {},
   "source": [
    "### Analysis\n",
    "\n",
    "Let's first explore our NetFlow trace to determine whether the campus network observes significant traffic with TCP SYN flags only (i.e., flows with TCP SYNs but no ACKs). \n",
    "\n",
    "In the following cell, determine the percentage of TCP flows in `netflow_data` that have SYN packet but no ACK packet. A flow has a SYN packet if there is an \"S\" in the \"Flags\" field.  A flow has an ACK packet if there is an \"A\" in the flags field.  Be sure to only consider TCP traffic (use the \"Protocol\" field).  \n",
    "\n",
    "Print the percentage you found at the end of the cell with an informative label (e.g. `print(\"Percent SYN-only flows: {}\".format(percent_synonly))`)"
   ]
  },
  {
   "cell_type": "code",
   "execution_count": 38,
   "metadata": {},
   "outputs": [
    {
     "name": "stdout",
     "output_type": "stream",
     "text": "Percent SYN-only flows: 88.43306936620677%\n"
    }
   ],
   "source": [
    "# TODO: determine the percentage of TCP flows in netflow_data that had a SYN packet but no ACK packet\n",
    "# print(netflow_data[0])\n",
    "def isTCP(flow):\n",
    "    return flow['Protocol'] == 'TCP'\n",
    "def isSynOnly(flow):\n",
    "    return 'S' in flow['Flags'] and 'A' not in flow['Flags']\n",
    "percent_synonly = sum(1 for row in netflow_data if isTCP(row) and isSynOnly(row)) / sum(1 for row in netflow_data if isTCP(row)) *100\n",
    "print(\"Percent SYN-only flows: {}%\".format(percent_synonly))\n"
   ]
  },
  {
   "cell_type": "markdown",
   "metadata": {},
   "source": [
    "Check your answer by passing it (as a float between 0 and 100) to the `check_synonly_percentage()` function below.  This compares the md5 hash of your answer (rounded to the nearest int) against the md5 hash of the correct answer."
   ]
  },
  {
   "cell_type": "code",
   "execution_count": 119,
   "metadata": {},
   "outputs": [
    {
     "name": "stdout",
     "output_type": "stream",
     "text": "Hashes match. Your percentage of SYN-only flows is correct.\n"
    }
   ],
   "source": [
    "from testing import check_synonly_percent\n",
    "\n",
    "# TODO: pass the percentage of SYN-only TCP flows to the following function\n",
    "check_synonly_percent(percent_synonly)"
   ]
  },
  {
   "cell_type": "markdown",
   "metadata": {},
   "source": [
    "Each of the flows that fall into this category are TCP SYN scan candidates."
   ]
  },
  {
   "cell_type": "markdown",
   "metadata": {},
   "source": [
    "## **Part B: Port Scan Detection Using Known Bad Ports**\n",
    "\n",
    "Another method of identifying attacks involves using TCP ports that are known to correspond to particularly vulnerable services.  For this assignment, we will consider ports 135, 139, 445, and 1433 as known bad ports. These correspond to Windows RPC, NetBIOS, SMB, and SQL-Snake attacks. We expect that most of the traffic to \"known bad\" ports are scanners, but that is not necessarily true for all traffic to these ports.  \n",
    "\n",
    "In the following cell, test this hypothesis by identifying which flows in the NetFlow data are to known bad ports on the campus network (regardless of IP address). Then see whether these flows are more likely to be TCP SYN scans then flows to other ports:\n",
    "\n",
    "1. Divide all the TCP flows in `netflow_data` into the following categories:\n",
    "   1. SYN-only flows to known bad ports\n",
    "   2. Other flows to known bad ports\n",
    "   3. SYN-only flows to other ports'\n",
    "   4. Other flows to other ports\n",
    "\n",
    "2. From these sets, calculate the following three percentages, store them in variables, and print them with informative labels:\n",
    "   1. Precent of flows to known bad ports out of all TCP flows\n",
    "   2. Percent of SYN-only flows out of all flows to known bad ports\n",
    "   3. Percent of SYN-only flows out of all flows to other ports"
   ]
  },
  {
   "cell_type": "code",
   "execution_count": 120,
   "metadata": {},
   "outputs": [
    {
     "name": "stdout",
     "output_type": "stream",
     "text": "5.895719378452663\n99.79229171474728\n87.72140368126546\n"
    }
   ],
   "source": [
    "# TODO write code as described above\n",
    "bad_ports = [\"135\", \"139\", \"445\", \"1433\"]\n",
    "def destInBadPorts(flow):\n",
    "    return flow['Dst port'] in bad_ports\n",
    "# print(netflow_data[0])\n",
    "syn_only_bad = [row for row in netflow_data if isTCP(row) and isSynOnly(row) and destInBadPorts(row)]\n",
    "other_bad = [row for row in netflow_data if isTCP(row) and not(isSynOnly(row)) and destInBadPorts(row)]\n",
    "syn_only_other = [row for row in netflow_data if isTCP(row) and isSynOnly(row) and not destInBadPorts(row)]\n",
    "other_other = [row for row in netflow_data if isTCP(row) and not(isSynOnly(row)) and not destInBadPorts(row)]\n",
    "\n",
    "p1 = (len(syn_only_bad) + len(other_bad)) / (len(syn_only_bad)+len(other_bad)+len(syn_only_other)+len(other_other))*100\n",
    "p2 = len(syn_only_bad) / (len(syn_only_bad)+len(other_bad))*100\n",
    "p3 = len(syn_only_other) / (len(syn_only_other)+len(other_other))*100\n",
    "\n",
    "print(p1)\n",
    "print(p2)\n",
    "print(p3)"
   ]
  },
  {
   "cell_type": "markdown",
   "metadata": {},
   "source": [
    "Check the 3 percentages you found in the previous cell by passing them to the corresponding `check` functions below"
   ]
  },
  {
   "cell_type": "code",
   "execution_count": 121,
   "metadata": {},
   "outputs": [
    {
     "name": "stdout",
     "output_type": "stream",
     "text": "Hashes match. Your percentage of known bad flows is correct.\nHashes match. Your percentage of SYN-only flows out of the known bad flows is correct.\nHashes match. Your percentage of SYN-only flows out of the remaining flows is correct.\n"
    }
   ],
   "source": [
    "from testing import check_percent_knownbad, check_percent_synonly_knownbad, check_percent_synonly_other\n",
    "\n",
    "# TODO: pass percent values to following check functions\n",
    "check_percent_knownbad(p1)\n",
    "check_percent_synonly_knownbad(p2)\n",
    "check_percent_synonly_other(p3)"
   ]
  },
  {
   "cell_type": "markdown",
   "metadata": {},
   "source": [
    "In addition to identifying potentially malicious flows, a network operator would like to identify potentially malicious hosts. The operator can then block future traffic from these hosts. \n",
    "_______________________________"
   ]
  },
  {
   "cell_type": "markdown",
   "metadata": {},
   "source": [
    "##### Question:\n",
    "Why is it necessary to identify malicious hosts in order to stop port scans in real traffic? Why isn't identifying SYN-only flows sufficient? "
   ]
  },
  {
   "cell_type": "markdown",
   "metadata": {},
   "source": [
    "##### Asnwer:\n",
    "Because identifying malicious hosts allows us to block all traffic sent by it, preventing portscanning by those hosts altogether."
   ]
  },
  {
   "cell_type": "markdown",
   "metadata": {},
   "source": [
    "_________________________\n",
    "However, network operators want to avoid blocking benign traffic.  The potential for blocking benign traffic depends on the overlap between hosts that send malicious-looking traffic and hosts that send normal traffc. \n",
    "\n",
    "Complete the following code to find this overlap:\n",
    "1. Find a set of all hosts (IP addresses) that sent SYN-only or known bad port flows to the campus network (i.e., 128.112.\\*.\\*) during the recorded netflow data. We will call these the \"malicious hosts\"\n",
    "2. Find a set of all hosts that sent non-SYN-only flows to other (not known bad) ports. We will call these the \"benign hosts\"\n",
    "2. Find the intersection of the malicious hosts with the benign hosts. We will call this intersection the \"questionable\" hosts.\n",
    "3. Remove these \"questionable\" hosts from the \"malicious hosts\" and \"benign hosts\" sets.\n",
    "3. Calculate and print 3 values with informative labels:\n",
    "    1. The number of remaining malicious hosts \n",
    "    2. The number of remaining benign hosts\n",
    "    3. The number of questionable hosts\n",
    "\n",
    "Only include flows with source IPs external to the campus network (not 128.112.\\*.\\*).   We have provided an `internalIP()` function that returns True if the argument IP address is from within the campus network. \n",
    "\n",
    "The python `set` type will be useful, documentation here: https://docs.python.org/3/library/stdtypes.html#set-types-set-frozenset"
   ]
  },
  {
   "cell_type": "code",
   "execution_count": 143,
   "metadata": {},
   "outputs": [
    {
     "name": "stdout",
     "output_type": "stream",
     "text": "OrderedDict([('Date first seen', '10/29/15'), ('Time first seen (m:s)', '04:48.9'), ('Date last seen', '10/29/15'), ('Time last seen (m:s)', '04:48.9'), ('Duration (s)', '0'), ('Protocol', 'ICMP'), ('Src IP addr', '172.16.241.1'), ('Src port', '0'), ('Dst IP addr', '128.112.213.189'), ('Dst port', '11'), ('Packets', '1'), ('Bytes', '94'), ('Flags', '.A....'), ('Input interface', '120'), ('Output interface', '0')])\nbefore removing:\n4491\n78\nafter removing\n4479\n66\n12\n"
    }
   ],
   "source": [
    "# InternalIP returns true if the argument IP address is within the campus network\n",
    "def internalIP(ip):\n",
    "    s = ip.split('.')\n",
    "    if s[0] == \"128\" and s[1] == \"112\":\n",
    "        return True\n",
    "    return False\n",
    "def destIsInternal(flow):\n",
    "    return internalIP(flow['Dst IP addr'])\n",
    "\n",
    "print(netflow_data[0])\n",
    "malicious_hosts = set()\n",
    "for flow in netflow_data:\n",
    "    if isTCP(flow) and not internalIP(flow['Src IP addr']) and (isSynOnly(flow) or destInBadPorts(flow)):\n",
    "        malicious_hosts.add(flow['Src IP addr'])\n",
    "\n",
    "bebign_hosts = set()\n",
    "for flow in netflow_data:\n",
    "    if isTCP(flow) and destIsInternal(flow) and not isSynOnly(flow) and not destInBadPorts(flow):\n",
    "        bebign_hosts.add(flow['Src IP addr'])\n",
    "questionable_hosts = malicious_hosts & bebign_hosts\n",
    "print('before removing:')\n",
    "print(len(malicious_hosts))\n",
    "print(len(bebign_hosts))\n",
    "\n",
    "malicious_hosts -= questionable_hosts\n",
    "bebign_hosts -= questionable_hosts\n",
    "print('after removing')\n",
    "print(len(malicious_hosts))\n",
    "print(len(bebign_hosts))\n",
    "print(len(questionable_hosts))\n",
    "        \n",
    "\n",
    "# TODO: write code as described above\n",
    "# print(malicious_hosts)\n"
   ]
  },
  {
   "cell_type": "markdown",
   "metadata": {},
   "source": [
    "Pass the counts you found into the following `check` functions to verify them"
   ]
  },
  {
   "cell_type": "code",
   "execution_count": 139,
   "metadata": {},
   "outputs": [
    {
     "name": "stdout",
     "output_type": "stream",
     "text": "Hashes match. Your number of benign hosts is correct.\nHashes match. Your number of malicious hosts is correct.\nHashes match. Your number of questionable hosts is correct.\n"
    }
   ],
   "source": [
    "from testing import check_num_malicious_hosts, check_num_benign_hosts, check_num_questionable_hosts\n",
    "\n",
    "# TODO: pass percent values to following check functions\n",
    "check_num_benign_hosts(len(bebign_hosts))\n",
    "check_num_malicious_hosts(len(malicious_hosts))\n",
    "check_num_questionable_hosts(len(questionable_hosts))"
   ]
  },
  {
   "cell_type": "markdown",
   "metadata": {},
   "source": [
    "________________________\n",
    "##### Question:\n",
    "Who are all of these potentially malicious hosts? Choose 2 IP addresses in the set of \"malicious hosts\" and see what you can find out about them using `whois` and searching online.  Report the most interesting parts of your findings below. "
   ]
  },
  {
   "cell_type": "markdown",
   "metadata": {},
   "source": [
    "##### Answer:\n",
    "I looked up 124.79.89.51 and 119.85.35.149. Both ip addresses were in China and provided by China Telecom.\n",
    "\n"
   ]
  },
  {
   "cell_type": "markdown",
   "metadata": {},
   "source": [
    "__________________________________\n",
    "## **Part C: Online Port Scan Detection**"
   ]
  },
  {
   "cell_type": "markdown",
   "metadata": {},
   "source": [
    "In the previous sections, we used offline analysis of pre-recorded traffic to identify potentially malicious hosts. A real network operator would not want to wait for offline analysis in order to detect potential threats.  Instead, he or she would configure a network intrusion detection system (NIDS) to use an online port scan detection algorithm to classify hosts as benign or malicious, updating these classifications in real-time as traffic flows occur. \n",
    "\n",
    "### Bro's Port Scan Detection Algorithm\n",
    "\n",
    "The port scan detection algorithm used in the [Bro system](https://pdfs.semanticscholar.org/f121/cde8d3d5364717caf2b91d27a270ec004cac.pdf) was published in 1999 by Vern Paxson, et al.\n",
    "\n",
    "Bro's detection algorithm builds on the same intution that failed connection attempts (SYN-only or SYN/RST flows) are good indicators for identifying scans.\n",
    "\n",
    "The algorithm treats connection attempts differently depending on the service (determined by port) to which the connection is intended.  Bro only tracks failed connection attempts (SYN-only or SYN/RST) to a specific set of \"known good\" services.\n",
    "\n",
    "For all other services, Bro tracks all connection attempts, whether or not the attempts fail or succeed. \n",
    "\n",
    "For each sending host, Bro counts the number of distinct destination addresses corresponding to tracked connection attempts. If the number exceeds some threshold, `T`, Bro flags the host as a scanner.\n",
    "\n",
    "By default, the set of services for which only failures are considered includes HTTP (80), SSH (22), Telnet (23), SMTP (25), IDENT (113), FTP (20), and Gopher (70). These services are \"known good,\" i.e. we expect many connections to be initiated to these services, so we should not count successful connection attempts against a sending host. \n",
    "\n",
    "#### Task: Implement Bro's port scan detection algorithm.\n",
    "\n",
    "Complete the Bro class below to implement Bro's port scan detection algorithm.  "
   ]
  },
  {
   "cell_type": "code",
   "execution_count": 109,
   "metadata": {},
   "outputs": [],
   "source": [
    "from collections import defaultdict\n",
    "\n",
    "# TODO: complete the methods marked TODO in the Bro class to implement the Bro algorithm\n",
    "class Bro:\n",
    "    \n",
    "    # class constructor saves the parameter threshold value and sets instance variables\n",
    "    def __init__(self, threshold):\n",
    "        self.T = threshold\n",
    "        \n",
    "        # self.good_services is the list of port numbers to which successful connections \n",
    "        #     (SYN and ACK) should not be tracked\n",
    "        self.good_services = [80, 22, 23, 25, 113, 20, 70]\n",
    "        \n",
    "        # self.tracked maps sending hosts to a set of destination addresses\n",
    "        #     from tracked connection attempts \n",
    "        self.tracked = defaultdict(set)\n",
    "\n",
    "        \n",
    "    # TODO: block_connection() takes a sending host IP address of an incoming connection\n",
    "    #       returns True if the connection should be blocked (because the host has surpassed\n",
    "    #       the threshold of destination addresses in tracked connection attempts) or False otherwise\n",
    "    def block_connection(self, host_ip):\n",
    "        if len(self.tracked[host_ip]) > self.T:\n",
    "            return True\n",
    "        return False\n",
    "    \n",
    "    \n",
    "    # TODO: process_flow() takes a netflow record of a TCP flow that was not blocked\n",
    "    #       (as a netflow record dict) and should update self.tracked\n",
    "    #       with the contents of the record\n",
    "    def process_flow(self, netflow_record):\n",
    "        if netflow_record['Dst port'] in self.good_services:\n",
    "            if isSynOnly(netflow_record):\n",
    "                self.tracked[netflow_record['Src IP addr']].add(netflow_record['Dst IP addr'])\n",
    "        else:\n",
    "            self.tracked[netflow_record['Src IP addr']].add(netflow_record['Dst IP addr'])\n"
   ]
  },
  {
   "cell_type": "markdown",
   "metadata": {},
   "source": [
    "Note that a full implementation of Bro's detection algorithm would also contain a moving time window over which tracked connection attempts are remembered.  This prevents a benign host from being blocked if it is dynamically assigned an IP address that previously belonged to an attacker. However, the NetFlow data we are using in this assignment is from only approximately 5 minutes of traffic, so we don't need to worry about time windows. \n",
    "\n",
    "The following `run_bro()` function takes a threshold value and runs your Bro algorithm on the NetFlow data, returning a set of all addresses blocked during the course of the algorithm. This function is already complete."
   ]
  },
  {
   "cell_type": "code",
   "execution_count": 117,
   "metadata": {},
   "outputs": [],
   "source": [
    "def run_bro(threshold):\n",
    "    blocked_hosts = set()\n",
    "    bro = Bro(threshold)\n",
    "    for flow in netflow_data:\n",
    "        src_ip = flow[\"Src IP addr\"]\n",
    "        if flow[\"Protocol\"] != \"TCP\":\n",
    "            continue\n",
    "        if internalIP(src_ip):\n",
    "            continue\n",
    "        block = bro.block_connection(src_ip)\n",
    "        if block:\n",
    "            blocked_hosts.add(src_ip)\n",
    "            continue\n",
    "        bro.process_flow(flow)\n",
    "    return blocked_hosts"
   ]
  },
  {
   "cell_type": "markdown",
   "metadata": {},
   "source": [
    "Before running Bro on their network intrusion detection system, a network operator might want to know how sensitive the algorithm is to the threshold variable `T`. \n",
    "\n",
    "In the following cell, create a 120 element list such that element `i` contains the number of blocked hosts in the set returned by `run_bro(i)`.  Then pass the list to the `plot_bro()` function to plot a sensitivity curve."
   ]
  },
  {
   "cell_type": "code",
   "execution_count": 114,
   "metadata": {},
   "outputs": [
    {
     "data": {
      "image/png": "[encoded data removed]",
      "image/svg+xml": "<?xml version=\"1.0\" encoding=\"utf-8\" standalone=\"no\"?>\n<!DOCTYPE svg PUBLIC \"-//W3C//DTD SVG 1.1//EN\"\n  \"http://www.w3.org/Graphics/SVG/1.1/DTD/svg11.dtd\">\n<!-- Created with matplotlib (https://matplotlib.org/) -->\n<svg height=\"507.471875pt\" version=\"1.1\" viewBox=\"0 0 969.315 507.471875\" width=\"969.315pt\" xmlns=\"http://www.w3.org/2000/svg\" xmlns:xlink=\"http://www.w3.org/1999/xlink\">\n <defs>\n  <style type=\"text/css\">\n*{stroke-linecap:butt;stroke-linejoin:round;}\n  </style>\n </defs>\n <g id=\"figure_1\">\n  <g id=\"patch_1\">\n   <path d=\"M 0 507.471875 \nL 969.315 507.471875 \nL 969.315 0 \nL 0 0 \nz\n\" style=\"fill:none;\"/>\n  </g>\n  <g id=\"axes_1\">\n   <g id=\"patch_2\">\n    <path d=\"M 69.315 460.2375 \nL 962.115 460.2375 \nL 962.115 25.3575 \nL 69.315 25.3575 \nz\n\" style=\"fill:#ffffff;\"/>\n   </g>\n   <g id=\"matplotlib.axis_1\">\n    <g id=\"xtick_1\">\n     <g id=\"line2d_1\">\n      <path clip-path=\"url(#p281b062b54)\" d=\"M 109.896818 460.2375 \nL 109.896818 25.3575 \n\" style=\"fill:none;stroke:#b0b0b0;stroke-linecap:square;stroke-width:0.8;\"/>\n     </g>\n     <g id=\"line2d_2\">\n      <defs>\n       <path d=\"M 0 0 \nL 0 3.5 \n\" id=\"mb55882a041\" style=\"stroke:#000000;stroke-width:0.8;\"/>\n      </defs>\n      <g>\n       <use style=\"stroke:#000000;stroke-width:0.8;\" x=\"109.896818\" xlink:href=\"#mb55882a041\" y=\"460.2375\"/>\n      </g>\n     </g>\n     <g id=\"text_1\">\n      <!-- 0 -->\n      <defs>\n       <path d=\"M 31.78125 66.40625 \nQ 24.171875 66.40625 20.328125 58.90625 \nQ 16.5 51.421875 16.5 36.375 \nQ 16.5 21.390625 20.328125 13.890625 \nQ 24.171875 6.390625 31.78125 6.390625 \nQ 39.453125 6.390625 43.28125 13.890625 \nQ 47.125 21.390625 47.125 36.375 \nQ 47.125 51.421875 43.28125 58.90625 \nQ 39.453125 66.40625 31.78125 66.40625 \nz\nM 31.78125 74.21875 \nQ 44.046875 74.21875 50.515625 64.515625 \nQ 56.984375 54.828125 56.984375 36.375 \nQ 56.984375 17.96875 50.515625 8.265625 \nQ 44.046875 -1.421875 31.78125 -1.421875 \nQ 19.53125 -1.421875 13.0625 8.265625 \nQ 6.59375 17.96875 6.59375 36.375 \nQ 6.59375 54.828125 13.0625 64.515625 \nQ 19.53125 74.21875 31.78125 74.21875 \nz\n\" id=\"DejaVuSans-48\"/>\n      </defs>\n      <g transform=\"translate(105.443068 477.875312)scale(0.14 -0.14)\">\n       <use xlink:href=\"#DejaVuSans-48\"/>\n      </g>\n     </g>\n    </g>\n    <g id=\"xtick_2\">\n     <g id=\"line2d_3\">\n      <path clip-path=\"url(#p281b062b54)\" d=\"M 246.306291 460.2375 \nL 246.306291 25.3575 \n\" style=\"fill:none;stroke:#b0b0b0;stroke-linecap:square;stroke-width:0.8;\"/>\n     </g>\n     <g id=\"line2d_4\">\n      <g>\n       <use style=\"stroke:#000000;stroke-width:0.8;\" x=\"246.306291\" xlink:href=\"#mb55882a041\" y=\"460.2375\"/>\n      </g>\n     </g>\n     <g id=\"text_2\">\n      <!-- 20 -->\n      <defs>\n       <path d=\"M 19.1875 8.296875 \nL 53.609375 8.296875 \nL 53.609375 0 \nL 7.328125 0 \nL 7.328125 8.296875 \nQ 12.9375 14.109375 22.625 23.890625 \nQ 32.328125 33.6875 34.8125 36.53125 \nQ 39.546875 41.84375 41.421875 45.53125 \nQ 43.3125 49.21875 43.3125 52.78125 \nQ 43.3125 58.59375 39.234375 62.25 \nQ 35.15625 65.921875 28.609375 65.921875 \nQ 23.96875 65.921875 18.8125 64.3125 \nQ 13.671875 62.703125 7.8125 59.421875 \nL 7.8125 69.390625 \nQ 13.765625 71.78125 18.9375 73 \nQ 24.125 74.21875 28.421875 74.21875 \nQ 39.75 74.21875 46.484375 68.546875 \nQ 53.21875 62.890625 53.21875 53.421875 \nQ 53.21875 48.921875 51.53125 44.890625 \nQ 49.859375 40.875 45.40625 35.40625 \nQ 44.1875 33.984375 37.640625 27.21875 \nQ 31.109375 20.453125 19.1875 8.296875 \nz\n\" id=\"DejaVuSans-50\"/>\n      </defs>\n      <g transform=\"translate(237.398791 477.875312)scale(0.14 -0.14)\">\n       <use xlink:href=\"#DejaVuSans-50\"/>\n       <use x=\"63.623047\" xlink:href=\"#DejaVuSans-48\"/>\n      </g>\n     </g>\n    </g>\n    <g id=\"xtick_3\">\n     <g id=\"line2d_5\">\n      <path clip-path=\"url(#p281b062b54)\" d=\"M 382.715764 460.2375 \nL 382.715764 25.3575 \n\" style=\"fill:none;stroke:#b0b0b0;stroke-linecap:square;stroke-width:0.8;\"/>\n     </g>\n     <g id=\"line2d_6\">\n      <g>\n       <use style=\"stroke:#000000;stroke-width:0.8;\" x=\"382.715764\" xlink:href=\"#mb55882a041\" y=\"460.2375\"/>\n      </g>\n     </g>\n     <g id=\"text_3\">\n      <!-- 40 -->\n      <defs>\n       <path d=\"M 37.796875 64.3125 \nL 12.890625 25.390625 \nL 37.796875 25.390625 \nz\nM 35.203125 72.90625 \nL 47.609375 72.90625 \nL 47.609375 25.390625 \nL 58.015625 25.390625 \nL 58.015625 17.1875 \nL 47.609375 17.1875 \nL 47.609375 0 \nL 37.796875 0 \nL 37.796875 17.1875 \nL 4.890625 17.1875 \nL 4.890625 26.703125 \nz\n\" id=\"DejaVuSans-52\"/>\n      </defs>\n      <g transform=\"translate(373.808264 477.875312)scale(0.14 -0.14)\">\n       <use xlink:href=\"#DejaVuSans-52\"/>\n       <use x=\"63.623047\" xlink:href=\"#DejaVuSans-48\"/>\n      </g>\n     </g>\n    </g>\n    <g id=\"xtick_4\">\n     <g id=\"line2d_7\">\n      <path clip-path=\"url(#p281b062b54)\" d=\"M 519.125237 460.2375 \nL 519.125237 25.3575 \n\" style=\"fill:none;stroke:#b0b0b0;stroke-linecap:square;stroke-width:0.8;\"/>\n     </g>\n     <g id=\"line2d_8\">\n      <g>\n       <use style=\"stroke:#000000;stroke-width:0.8;\" x=\"519.125237\" xlink:href=\"#mb55882a041\" y=\"460.2375\"/>\n      </g>\n     </g>\n     <g id=\"text_4\">\n      <!-- 60 -->\n      <defs>\n       <path d=\"M 33.015625 40.375 \nQ 26.375 40.375 22.484375 35.828125 \nQ 18.609375 31.296875 18.609375 23.390625 \nQ 18.609375 15.53125 22.484375 10.953125 \nQ 26.375 6.390625 33.015625 6.390625 \nQ 39.65625 6.390625 43.53125 10.953125 \nQ 47.40625 15.53125 47.40625 23.390625 \nQ 47.40625 31.296875 43.53125 35.828125 \nQ 39.65625 40.375 33.015625 40.375 \nz\nM 52.59375 71.296875 \nL 52.59375 62.3125 \nQ 48.875 64.0625 45.09375 64.984375 \nQ 41.3125 65.921875 37.59375 65.921875 \nQ 27.828125 65.921875 22.671875 59.328125 \nQ 17.53125 52.734375 16.796875 39.40625 \nQ 19.671875 43.65625 24.015625 45.921875 \nQ 28.375 48.1875 33.59375 48.1875 \nQ 44.578125 48.1875 50.953125 41.515625 \nQ 57.328125 34.859375 57.328125 23.390625 \nQ 57.328125 12.15625 50.6875 5.359375 \nQ 44.046875 -1.421875 33.015625 -1.421875 \nQ 20.359375 -1.421875 13.671875 8.265625 \nQ 6.984375 17.96875 6.984375 36.375 \nQ 6.984375 53.65625 15.1875 63.9375 \nQ 23.390625 74.21875 37.203125 74.21875 \nQ 40.921875 74.21875 44.703125 73.484375 \nQ 48.484375 72.75 52.59375 71.296875 \nz\n\" id=\"DejaVuSans-54\"/>\n      </defs>\n      <g transform=\"translate(510.217737 477.875312)scale(0.14 -0.14)\">\n       <use xlink:href=\"#DejaVuSans-54\"/>\n       <use x=\"63.623047\" xlink:href=\"#DejaVuSans-48\"/>\n      </g>\n     </g>\n    </g>\n    <g id=\"xtick_5\">\n     <g id=\"line2d_9\">\n      <path clip-path=\"url(#p281b062b54)\" d=\"M 655.53471 460.2375 \nL 655.53471 25.3575 \n\" style=\"fill:none;stroke:#b0b0b0;stroke-linecap:square;stroke-width:0.8;\"/>\n     </g>\n     <g id=\"line2d_10\">\n      <g>\n       <use style=\"stroke:#000000;stroke-width:0.8;\" x=\"655.53471\" xlink:href=\"#mb55882a041\" y=\"460.2375\"/>\n      </g>\n     </g>\n     <g id=\"text_5\">\n      <!-- 80 -->\n      <defs>\n       <path d=\"M 31.78125 34.625 \nQ 24.75 34.625 20.71875 30.859375 \nQ 16.703125 27.09375 16.703125 20.515625 \nQ 16.703125 13.921875 20.71875 10.15625 \nQ 24.75 6.390625 31.78125 6.390625 \nQ 38.8125 6.390625 42.859375 10.171875 \nQ 46.921875 13.96875 46.921875 20.515625 \nQ 46.921875 27.09375 42.890625 30.859375 \nQ 38.875 34.625 31.78125 34.625 \nz\nM 21.921875 38.8125 \nQ 15.578125 40.375 12.03125 44.71875 \nQ 8.5 49.078125 8.5 55.328125 \nQ 8.5 64.0625 14.71875 69.140625 \nQ 20.953125 74.21875 31.78125 74.21875 \nQ 42.671875 74.21875 48.875 69.140625 \nQ 55.078125 64.0625 55.078125 55.328125 \nQ 55.078125 49.078125 51.53125 44.71875 \nQ 48 40.375 41.703125 38.8125 \nQ 48.828125 37.15625 52.796875 32.3125 \nQ 56.78125 27.484375 56.78125 20.515625 \nQ 56.78125 9.90625 50.3125 4.234375 \nQ 43.84375 -1.421875 31.78125 -1.421875 \nQ 19.734375 -1.421875 13.25 4.234375 \nQ 6.78125 9.90625 6.78125 20.515625 \nQ 6.78125 27.484375 10.78125 32.3125 \nQ 14.796875 37.15625 21.921875 38.8125 \nz\nM 18.3125 54.390625 \nQ 18.3125 48.734375 21.84375 45.5625 \nQ 25.390625 42.390625 31.78125 42.390625 \nQ 38.140625 42.390625 41.71875 45.5625 \nQ 45.3125 48.734375 45.3125 54.390625 \nQ 45.3125 60.0625 41.71875 63.234375 \nQ 38.140625 66.40625 31.78125 66.40625 \nQ 25.390625 66.40625 21.84375 63.234375 \nQ 18.3125 60.0625 18.3125 54.390625 \nz\n\" id=\"DejaVuSans-56\"/>\n      </defs>\n      <g transform=\"translate(646.62721 477.875312)scale(0.14 -0.14)\">\n       <use xlink:href=\"#DejaVuSans-56\"/>\n       <use x=\"63.623047\" xlink:href=\"#DejaVuSans-48\"/>\n      </g>\n     </g>\n    </g>\n    <g id=\"xtick_6\">\n     <g id=\"line2d_11\">\n      <path clip-path=\"url(#p281b062b54)\" d=\"M 791.944183 460.2375 \nL 791.944183 25.3575 \n\" style=\"fill:none;stroke:#b0b0b0;stroke-linecap:square;stroke-width:0.8;\"/>\n     </g>\n     <g id=\"line2d_12\">\n      <g>\n       <use style=\"stroke:#000000;stroke-width:0.8;\" x=\"791.944183\" xlink:href=\"#mb55882a041\" y=\"460.2375\"/>\n      </g>\n     </g>\n     <g id=\"text_6\">\n      <!-- 100 -->\n      <defs>\n       <path d=\"M 12.40625 8.296875 \nL 28.515625 8.296875 \nL 28.515625 63.921875 \nL 10.984375 60.40625 \nL 10.984375 69.390625 \nL 28.421875 72.90625 \nL 38.28125 72.90625 \nL 38.28125 8.296875 \nL 54.390625 8.296875 \nL 54.390625 0 \nL 12.40625 0 \nz\n\" id=\"DejaVuSans-49\"/>\n      </defs>\n      <g transform=\"translate(778.582933 477.875312)scale(0.14 -0.14)\">\n       <use xlink:href=\"#DejaVuSans-49\"/>\n       <use x=\"63.623047\" xlink:href=\"#DejaVuSans-48\"/>\n       <use x=\"127.246094\" xlink:href=\"#DejaVuSans-48\"/>\n      </g>\n     </g>\n    </g>\n    <g id=\"xtick_7\">\n     <g id=\"line2d_13\">\n      <path clip-path=\"url(#p281b062b54)\" d=\"M 928.353655 460.2375 \nL 928.353655 25.3575 \n\" style=\"fill:none;stroke:#b0b0b0;stroke-linecap:square;stroke-width:0.8;\"/>\n     </g>\n     <g id=\"line2d_14\">\n      <g>\n       <use style=\"stroke:#000000;stroke-width:0.8;\" x=\"928.353655\" xlink:href=\"#mb55882a041\" y=\"460.2375\"/>\n      </g>\n     </g>\n     <g id=\"text_7\">\n      <!-- 120 -->\n      <g transform=\"translate(914.992405 477.875312)scale(0.14 -0.14)\">\n       <use xlink:href=\"#DejaVuSans-49\"/>\n       <use x=\"63.623047\" xlink:href=\"#DejaVuSans-50\"/>\n       <use x=\"127.246094\" xlink:href=\"#DejaVuSans-48\"/>\n      </g>\n     </g>\n    </g>\n    <g id=\"text_8\">\n     <!-- Threshold -->\n     <defs>\n      <path d=\"M -0.296875 72.90625 \nL 61.375 72.90625 \nL 61.375 64.59375 \nL 35.5 64.59375 \nL 35.5 0 \nL 25.59375 0 \nL 25.59375 64.59375 \nL -0.296875 64.59375 \nz\n\" id=\"DejaVuSans-84\"/>\n      <path d=\"M 54.890625 33.015625 \nL 54.890625 0 \nL 45.90625 0 \nL 45.90625 32.71875 \nQ 45.90625 40.484375 42.875 44.328125 \nQ 39.84375 48.1875 33.796875 48.1875 \nQ 26.515625 48.1875 22.3125 43.546875 \nQ 18.109375 38.921875 18.109375 30.90625 \nL 18.109375 0 \nL 9.078125 0 \nL 9.078125 75.984375 \nL 18.109375 75.984375 \nL 18.109375 46.1875 \nQ 21.34375 51.125 25.703125 53.5625 \nQ 30.078125 56 35.796875 56 \nQ 45.21875 56 50.046875 50.171875 \nQ 54.890625 44.34375 54.890625 33.015625 \nz\n\" id=\"DejaVuSans-104\"/>\n      <path d=\"M 41.109375 46.296875 \nQ 39.59375 47.171875 37.8125 47.578125 \nQ 36.03125 48 33.890625 48 \nQ 26.265625 48 22.1875 43.046875 \nQ 18.109375 38.09375 18.109375 28.8125 \nL 18.109375 0 \nL 9.078125 0 \nL 9.078125 54.6875 \nL 18.109375 54.6875 \nL 18.109375 46.1875 \nQ 20.953125 51.171875 25.484375 53.578125 \nQ 30.03125 56 36.53125 56 \nQ 37.453125 56 38.578125 55.875 \nQ 39.703125 55.765625 41.0625 55.515625 \nz\n\" id=\"DejaVuSans-114\"/>\n      <path d=\"M 56.203125 29.59375 \nL 56.203125 25.203125 \nL 14.890625 25.203125 \nQ 15.484375 15.921875 20.484375 11.0625 \nQ 25.484375 6.203125 34.421875 6.203125 \nQ 39.59375 6.203125 44.453125 7.46875 \nQ 49.3125 8.734375 54.109375 11.28125 \nL 54.109375 2.78125 \nQ 49.265625 0.734375 44.1875 -0.34375 \nQ 39.109375 -1.421875 33.890625 -1.421875 \nQ 20.796875 -1.421875 13.15625 6.1875 \nQ 5.515625 13.8125 5.515625 26.8125 \nQ 5.515625 40.234375 12.765625 48.109375 \nQ 20.015625 56 32.328125 56 \nQ 43.359375 56 49.78125 48.890625 \nQ 56.203125 41.796875 56.203125 29.59375 \nz\nM 47.21875 32.234375 \nQ 47.125 39.59375 43.09375 43.984375 \nQ 39.0625 48.390625 32.421875 48.390625 \nQ 24.90625 48.390625 20.390625 44.140625 \nQ 15.875 39.890625 15.1875 32.171875 \nz\n\" id=\"DejaVuSans-101\"/>\n      <path d=\"M 44.28125 53.078125 \nL 44.28125 44.578125 \nQ 40.484375 46.53125 36.375 47.5 \nQ 32.28125 48.484375 27.875 48.484375 \nQ 21.1875 48.484375 17.84375 46.4375 \nQ 14.5 44.390625 14.5 40.28125 \nQ 14.5 37.15625 16.890625 35.375 \nQ 19.28125 33.59375 26.515625 31.984375 \nL 29.59375 31.296875 \nQ 39.15625 29.25 43.1875 25.515625 \nQ 47.21875 21.78125 47.21875 15.09375 \nQ 47.21875 7.46875 41.1875 3.015625 \nQ 35.15625 -1.421875 24.609375 -1.421875 \nQ 20.21875 -1.421875 15.453125 -0.5625 \nQ 10.6875 0.296875 5.421875 2 \nL 5.421875 11.28125 \nQ 10.40625 8.6875 15.234375 7.390625 \nQ 20.0625 6.109375 24.8125 6.109375 \nQ 31.15625 6.109375 34.5625 8.28125 \nQ 37.984375 10.453125 37.984375 14.40625 \nQ 37.984375 18.0625 35.515625 20.015625 \nQ 33.0625 21.96875 24.703125 23.78125 \nL 21.578125 24.515625 \nQ 13.234375 26.265625 9.515625 29.90625 \nQ 5.8125 33.546875 5.8125 39.890625 \nQ 5.8125 47.609375 11.28125 51.796875 \nQ 16.75 56 26.8125 56 \nQ 31.78125 56 36.171875 55.265625 \nQ 40.578125 54.546875 44.28125 53.078125 \nz\n\" id=\"DejaVuSans-115\"/>\n      <path d=\"M 30.609375 48.390625 \nQ 23.390625 48.390625 19.1875 42.75 \nQ 14.984375 37.109375 14.984375 27.296875 \nQ 14.984375 17.484375 19.15625 11.84375 \nQ 23.34375 6.203125 30.609375 6.203125 \nQ 37.796875 6.203125 41.984375 11.859375 \nQ 46.1875 17.53125 46.1875 27.296875 \nQ 46.1875 37.015625 41.984375 42.703125 \nQ 37.796875 48.390625 30.609375 48.390625 \nz\nM 30.609375 56 \nQ 42.328125 56 49.015625 48.375 \nQ 55.71875 40.765625 55.71875 27.296875 \nQ 55.71875 13.875 49.015625 6.21875 \nQ 42.328125 -1.421875 30.609375 -1.421875 \nQ 18.84375 -1.421875 12.171875 6.21875 \nQ 5.515625 13.875 5.515625 27.296875 \nQ 5.515625 40.765625 12.171875 48.375 \nQ 18.84375 56 30.609375 56 \nz\n\" id=\"DejaVuSans-111\"/>\n      <path d=\"M 9.421875 75.984375 \nL 18.40625 75.984375 \nL 18.40625 0 \nL 9.421875 0 \nz\n\" id=\"DejaVuSans-108\"/>\n      <path d=\"M 45.40625 46.390625 \nL 45.40625 75.984375 \nL 54.390625 75.984375 \nL 54.390625 0 \nL 45.40625 0 \nL 45.40625 8.203125 \nQ 42.578125 3.328125 38.25 0.953125 \nQ 33.9375 -1.421875 27.875 -1.421875 \nQ 17.96875 -1.421875 11.734375 6.484375 \nQ 5.515625 14.40625 5.515625 27.296875 \nQ 5.515625 40.1875 11.734375 48.09375 \nQ 17.96875 56 27.875 56 \nQ 33.9375 56 38.25 53.625 \nQ 42.578125 51.265625 45.40625 46.390625 \nz\nM 14.796875 27.296875 \nQ 14.796875 17.390625 18.875 11.75 \nQ 22.953125 6.109375 30.078125 6.109375 \nQ 37.203125 6.109375 41.296875 11.75 \nQ 45.40625 17.390625 45.40625 27.296875 \nQ 45.40625 37.203125 41.296875 42.84375 \nQ 37.203125 48.484375 30.078125 48.484375 \nQ 22.953125 48.484375 18.875 42.84375 \nQ 14.796875 37.203125 14.796875 27.296875 \nz\n\" id=\"DejaVuSans-100\"/>\n     </defs>\n     <g transform=\"translate(476.11625 496.944375)scale(0.16 -0.16)\">\n      <use xlink:href=\"#DejaVuSans-84\"/>\n      <use x=\"61.083984\" xlink:href=\"#DejaVuSans-104\"/>\n      <use x=\"124.462891\" xlink:href=\"#DejaVuSans-114\"/>\n      <use x=\"165.544922\" xlink:href=\"#DejaVuSans-101\"/>\n      <use x=\"227.068359\" xlink:href=\"#DejaVuSans-115\"/>\n      <use x=\"279.167969\" xlink:href=\"#DejaVuSans-104\"/>\n      <use x=\"342.546875\" xlink:href=\"#DejaVuSans-111\"/>\n      <use x=\"403.728516\" xlink:href=\"#DejaVuSans-108\"/>\n      <use x=\"431.511719\" xlink:href=\"#DejaVuSans-100\"/>\n     </g>\n    </g>\n   </g>\n   <g id=\"matplotlib.axis_2\">\n    <g id=\"ytick_1\">\n     <g id=\"line2d_15\">\n      <path clip-path=\"url(#p281b062b54)\" d=\"M 69.315 418.721394 \nL 962.115 418.721394 \n\" style=\"fill:none;stroke:#b0b0b0;stroke-linecap:square;stroke-width:0.8;\"/>\n     </g>\n     <g id=\"line2d_16\">\n      <defs>\n       <path d=\"M 0 0 \nL -3.5 0 \n\" id=\"m55d252c776\" style=\"stroke:#000000;stroke-width:0.8;\"/>\n      </defs>\n      <g>\n       <use style=\"stroke:#000000;stroke-width:0.8;\" x=\"69.315\" xlink:href=\"#m55d252c776\" y=\"418.721394\"/>\n      </g>\n     </g>\n     <g id=\"text_9\">\n      <!-- 200 -->\n      <g transform=\"translate(35.5925 424.0403)scale(0.14 -0.14)\">\n       <use xlink:href=\"#DejaVuSans-50\"/>\n       <use x=\"63.623047\" xlink:href=\"#DejaVuSans-48\"/>\n       <use x=\"127.246094\" xlink:href=\"#DejaVuSans-48\"/>\n      </g>\n     </g>\n    </g>\n    <g id=\"ytick_2\">\n     <g id=\"line2d_17\">\n      <path clip-path=\"url(#p281b062b54)\" d=\"M 69.315 370.390654 \nL 962.115 370.390654 \n\" style=\"fill:none;stroke:#b0b0b0;stroke-linecap:square;stroke-width:0.8;\"/>\n     </g>\n     <g id=\"line2d_18\">\n      <g>\n       <use style=\"stroke:#000000;stroke-width:0.8;\" x=\"69.315\" xlink:href=\"#m55d252c776\" y=\"370.390654\"/>\n      </g>\n     </g>\n     <g id=\"text_10\">\n      <!-- 400 -->\n      <g transform=\"translate(35.5925 375.70956)scale(0.14 -0.14)\">\n       <use xlink:href=\"#DejaVuSans-52\"/>\n       <use x=\"63.623047\" xlink:href=\"#DejaVuSans-48\"/>\n       <use x=\"127.246094\" xlink:href=\"#DejaVuSans-48\"/>\n      </g>\n     </g>\n    </g>\n    <g id=\"ytick_3\">\n     <g id=\"line2d_19\">\n      <path clip-path=\"url(#p281b062b54)\" d=\"M 69.315 322.059914 \nL 962.115 322.059914 \n\" style=\"fill:none;stroke:#b0b0b0;stroke-linecap:square;stroke-width:0.8;\"/>\n     </g>\n     <g id=\"line2d_20\">\n      <g>\n       <use style=\"stroke:#000000;stroke-width:0.8;\" x=\"69.315\" xlink:href=\"#m55d252c776\" y=\"322.059914\"/>\n      </g>\n     </g>\n     <g id=\"text_11\">\n      <!-- 600 -->\n      <g transform=\"translate(35.5925 327.37882)scale(0.14 -0.14)\">\n       <use xlink:href=\"#DejaVuSans-54\"/>\n       <use x=\"63.623047\" xlink:href=\"#DejaVuSans-48\"/>\n       <use x=\"127.246094\" xlink:href=\"#DejaVuSans-48\"/>\n      </g>\n     </g>\n    </g>\n    <g id=\"ytick_4\">\n     <g id=\"line2d_21\">\n      <path clip-path=\"url(#p281b062b54)\" d=\"M 69.315 273.729174 \nL 962.115 273.729174 \n\" style=\"fill:none;stroke:#b0b0b0;stroke-linecap:square;stroke-width:0.8;\"/>\n     </g>\n     <g id=\"line2d_22\">\n      <g>\n       <use style=\"stroke:#000000;stroke-width:0.8;\" x=\"69.315\" xlink:href=\"#m55d252c776\" y=\"273.729174\"/>\n      </g>\n     </g>\n     <g id=\"text_12\">\n      <!-- 800 -->\n      <g transform=\"translate(35.5925 279.04808)scale(0.14 -0.14)\">\n       <use xlink:href=\"#DejaVuSans-56\"/>\n       <use x=\"63.623047\" xlink:href=\"#DejaVuSans-48\"/>\n       <use x=\"127.246094\" xlink:href=\"#DejaVuSans-48\"/>\n      </g>\n     </g>\n    </g>\n    <g id=\"ytick_5\">\n     <g id=\"line2d_23\">\n      <path clip-path=\"url(#p281b062b54)\" d=\"M 69.315 225.398434 \nL 962.115 225.398434 \n\" style=\"fill:none;stroke:#b0b0b0;stroke-linecap:square;stroke-width:0.8;\"/>\n     </g>\n     <g id=\"line2d_24\">\n      <g>\n       <use style=\"stroke:#000000;stroke-width:0.8;\" x=\"69.315\" xlink:href=\"#m55d252c776\" y=\"225.398434\"/>\n      </g>\n     </g>\n     <g id=\"text_13\">\n      <!-- 1000 -->\n      <g transform=\"translate(26.685 230.71734)scale(0.14 -0.14)\">\n       <use xlink:href=\"#DejaVuSans-49\"/>\n       <use x=\"63.623047\" xlink:href=\"#DejaVuSans-48\"/>\n       <use x=\"127.246094\" xlink:href=\"#DejaVuSans-48\"/>\n       <use x=\"190.869141\" xlink:href=\"#DejaVuSans-48\"/>\n      </g>\n     </g>\n    </g>\n    <g id=\"ytick_6\">\n     <g id=\"line2d_25\">\n      <path clip-path=\"url(#p281b062b54)\" d=\"M 69.315 177.067693 \nL 962.115 177.067693 \n\" style=\"fill:none;stroke:#b0b0b0;stroke-linecap:square;stroke-width:0.8;\"/>\n     </g>\n     <g id=\"line2d_26\">\n      <g>\n       <use style=\"stroke:#000000;stroke-width:0.8;\" x=\"69.315\" xlink:href=\"#m55d252c776\" y=\"177.067693\"/>\n      </g>\n     </g>\n     <g id=\"text_14\">\n      <!-- 1200 -->\n      <g transform=\"translate(26.685 182.3866)scale(0.14 -0.14)\">\n       <use xlink:href=\"#DejaVuSans-49\"/>\n       <use x=\"63.623047\" xlink:href=\"#DejaVuSans-50\"/>\n       <use x=\"127.246094\" xlink:href=\"#DejaVuSans-48\"/>\n       <use x=\"190.869141\" xlink:href=\"#DejaVuSans-48\"/>\n      </g>\n     </g>\n    </g>\n    <g id=\"ytick_7\">\n     <g id=\"line2d_27\">\n      <path clip-path=\"url(#p281b062b54)\" d=\"M 69.315 128.736953 \nL 962.115 128.736953 \n\" style=\"fill:none;stroke:#b0b0b0;stroke-linecap:square;stroke-width:0.8;\"/>\n     </g>\n     <g id=\"line2d_28\">\n      <g>\n       <use style=\"stroke:#000000;stroke-width:0.8;\" x=\"69.315\" xlink:href=\"#m55d252c776\" y=\"128.736953\"/>\n      </g>\n     </g>\n     <g id=\"text_15\">\n      <!-- 1400 -->\n      <g transform=\"translate(26.685 134.055859)scale(0.14 -0.14)\">\n       <use xlink:href=\"#DejaVuSans-49\"/>\n       <use x=\"63.623047\" xlink:href=\"#DejaVuSans-52\"/>\n       <use x=\"127.246094\" xlink:href=\"#DejaVuSans-48\"/>\n       <use x=\"190.869141\" xlink:href=\"#DejaVuSans-48\"/>\n      </g>\n     </g>\n    </g>\n    <g id=\"ytick_8\">\n     <g id=\"line2d_29\">\n      <path clip-path=\"url(#p281b062b54)\" d=\"M 69.315 80.406213 \nL 962.115 80.406213 \n\" style=\"fill:none;stroke:#b0b0b0;stroke-linecap:square;stroke-width:0.8;\"/>\n     </g>\n     <g id=\"line2d_30\">\n      <g>\n       <use style=\"stroke:#000000;stroke-width:0.8;\" x=\"69.315\" xlink:href=\"#m55d252c776\" y=\"80.406213\"/>\n      </g>\n     </g>\n     <g id=\"text_16\">\n      <!-- 1600 -->\n      <g transform=\"translate(26.685 85.725119)scale(0.14 -0.14)\">\n       <use xlink:href=\"#DejaVuSans-49\"/>\n       <use x=\"63.623047\" xlink:href=\"#DejaVuSans-54\"/>\n       <use x=\"127.246094\" xlink:href=\"#DejaVuSans-48\"/>\n       <use x=\"190.869141\" xlink:href=\"#DejaVuSans-48\"/>\n      </g>\n     </g>\n    </g>\n    <g id=\"ytick_9\">\n     <g id=\"line2d_31\">\n      <path clip-path=\"url(#p281b062b54)\" d=\"M 69.315 32.075473 \nL 962.115 32.075473 \n\" style=\"fill:none;stroke:#b0b0b0;stroke-linecap:square;stroke-width:0.8;\"/>\n     </g>\n     <g id=\"line2d_32\">\n      <g>\n       <use style=\"stroke:#000000;stroke-width:0.8;\" x=\"69.315\" xlink:href=\"#m55d252c776\" y=\"32.075473\"/>\n      </g>\n     </g>\n     <g id=\"text_17\">\n      <!-- 1800 -->\n      <g transform=\"translate(26.685 37.394379)scale(0.14 -0.14)\">\n       <use xlink:href=\"#DejaVuSans-49\"/>\n       <use x=\"63.623047\" xlink:href=\"#DejaVuSans-56\"/>\n       <use x=\"127.246094\" xlink:href=\"#DejaVuSans-48\"/>\n       <use x=\"190.869141\" xlink:href=\"#DejaVuSans-48\"/>\n      </g>\n     </g>\n    </g>\n    <g id=\"text_18\">\n     <!-- Number of Blocked Hosts -->\n     <defs>\n      <path d=\"M 9.8125 72.90625 \nL 23.09375 72.90625 \nL 55.421875 11.921875 \nL 55.421875 72.90625 \nL 64.984375 72.90625 \nL 64.984375 0 \nL 51.703125 0 \nL 19.390625 60.984375 \nL 19.390625 0 \nL 9.8125 0 \nz\n\" id=\"DejaVuSans-78\"/>\n      <path d=\"M 8.5 21.578125 \nL 8.5 54.6875 \nL 17.484375 54.6875 \nL 17.484375 21.921875 \nQ 17.484375 14.15625 20.5 10.265625 \nQ 23.53125 6.390625 29.59375 6.390625 \nQ 36.859375 6.390625 41.078125 11.03125 \nQ 45.3125 15.671875 45.3125 23.6875 \nL 45.3125 54.6875 \nL 54.296875 54.6875 \nL 54.296875 0 \nL 45.3125 0 \nL 45.3125 8.40625 \nQ 42.046875 3.421875 37.71875 1 \nQ 33.40625 -1.421875 27.6875 -1.421875 \nQ 18.265625 -1.421875 13.375 4.4375 \nQ 8.5 10.296875 8.5 21.578125 \nz\nM 31.109375 56 \nz\n\" id=\"DejaVuSans-117\"/>\n      <path d=\"M 52 44.1875 \nQ 55.375 50.25 60.0625 53.125 \nQ 64.75 56 71.09375 56 \nQ 79.640625 56 84.28125 50.015625 \nQ 88.921875 44.046875 88.921875 33.015625 \nL 88.921875 0 \nL 79.890625 0 \nL 79.890625 32.71875 \nQ 79.890625 40.578125 77.09375 44.375 \nQ 74.3125 48.1875 68.609375 48.1875 \nQ 61.625 48.1875 57.5625 43.546875 \nQ 53.515625 38.921875 53.515625 30.90625 \nL 53.515625 0 \nL 44.484375 0 \nL 44.484375 32.71875 \nQ 44.484375 40.625 41.703125 44.40625 \nQ 38.921875 48.1875 33.109375 48.1875 \nQ 26.21875 48.1875 22.15625 43.53125 \nQ 18.109375 38.875 18.109375 30.90625 \nL 18.109375 0 \nL 9.078125 0 \nL 9.078125 54.6875 \nL 18.109375 54.6875 \nL 18.109375 46.1875 \nQ 21.1875 51.21875 25.484375 53.609375 \nQ 29.78125 56 35.6875 56 \nQ 41.65625 56 45.828125 52.96875 \nQ 50 49.953125 52 44.1875 \nz\n\" id=\"DejaVuSans-109\"/>\n      <path d=\"M 48.6875 27.296875 \nQ 48.6875 37.203125 44.609375 42.84375 \nQ 40.53125 48.484375 33.40625 48.484375 \nQ 26.265625 48.484375 22.1875 42.84375 \nQ 18.109375 37.203125 18.109375 27.296875 \nQ 18.109375 17.390625 22.1875 11.75 \nQ 26.265625 6.109375 33.40625 6.109375 \nQ 40.53125 6.109375 44.609375 11.75 \nQ 48.6875 17.390625 48.6875 27.296875 \nz\nM 18.109375 46.390625 \nQ 20.953125 51.265625 25.265625 53.625 \nQ 29.59375 56 35.59375 56 \nQ 45.5625 56 51.78125 48.09375 \nQ 58.015625 40.1875 58.015625 27.296875 \nQ 58.015625 14.40625 51.78125 6.484375 \nQ 45.5625 -1.421875 35.59375 -1.421875 \nQ 29.59375 -1.421875 25.265625 0.953125 \nQ 20.953125 3.328125 18.109375 8.203125 \nL 18.109375 0 \nL 9.078125 0 \nL 9.078125 75.984375 \nL 18.109375 75.984375 \nz\n\" id=\"DejaVuSans-98\"/>\n      <path id=\"DejaVuSans-32\"/>\n      <path d=\"M 37.109375 75.984375 \nL 37.109375 68.5 \nL 28.515625 68.5 \nQ 23.6875 68.5 21.796875 66.546875 \nQ 19.921875 64.59375 19.921875 59.515625 \nL 19.921875 54.6875 \nL 34.71875 54.6875 \nL 34.71875 47.703125 \nL 19.921875 47.703125 \nL 19.921875 0 \nL 10.890625 0 \nL 10.890625 47.703125 \nL 2.296875 47.703125 \nL 2.296875 54.6875 \nL 10.890625 54.6875 \nL 10.890625 58.5 \nQ 10.890625 67.625 15.140625 71.796875 \nQ 19.390625 75.984375 28.609375 75.984375 \nz\n\" id=\"DejaVuSans-102\"/>\n      <path d=\"M 19.671875 34.8125 \nL 19.671875 8.109375 \nL 35.5 8.109375 \nQ 43.453125 8.109375 47.28125 11.40625 \nQ 51.125 14.703125 51.125 21.484375 \nQ 51.125 28.328125 47.28125 31.5625 \nQ 43.453125 34.8125 35.5 34.8125 \nz\nM 19.671875 64.796875 \nL 19.671875 42.828125 \nL 34.28125 42.828125 \nQ 41.5 42.828125 45.03125 45.53125 \nQ 48.578125 48.25 48.578125 53.8125 \nQ 48.578125 59.328125 45.03125 62.0625 \nQ 41.5 64.796875 34.28125 64.796875 \nz\nM 9.8125 72.90625 \nL 35.015625 72.90625 \nQ 46.296875 72.90625 52.390625 68.21875 \nQ 58.5 63.53125 58.5 54.890625 \nQ 58.5 48.1875 55.375 44.234375 \nQ 52.25 40.28125 46.1875 39.3125 \nQ 53.46875 37.75 57.5 32.78125 \nQ 61.53125 27.828125 61.53125 20.40625 \nQ 61.53125 10.640625 54.890625 5.3125 \nQ 48.25 0 35.984375 0 \nL 9.8125 0 \nz\n\" id=\"DejaVuSans-66\"/>\n      <path d=\"M 48.78125 52.59375 \nL 48.78125 44.1875 \nQ 44.96875 46.296875 41.140625 47.34375 \nQ 37.3125 48.390625 33.40625 48.390625 \nQ 24.65625 48.390625 19.8125 42.84375 \nQ 14.984375 37.3125 14.984375 27.296875 \nQ 14.984375 17.28125 19.8125 11.734375 \nQ 24.65625 6.203125 33.40625 6.203125 \nQ 37.3125 6.203125 41.140625 7.25 \nQ 44.96875 8.296875 48.78125 10.40625 \nL 48.78125 2.09375 \nQ 45.015625 0.34375 40.984375 -0.53125 \nQ 36.96875 -1.421875 32.421875 -1.421875 \nQ 20.0625 -1.421875 12.78125 6.34375 \nQ 5.515625 14.109375 5.515625 27.296875 \nQ 5.515625 40.671875 12.859375 48.328125 \nQ 20.21875 56 33.015625 56 \nQ 37.15625 56 41.109375 55.140625 \nQ 45.0625 54.296875 48.78125 52.59375 \nz\n\" id=\"DejaVuSans-99\"/>\n      <path d=\"M 9.078125 75.984375 \nL 18.109375 75.984375 \nL 18.109375 31.109375 \nL 44.921875 54.6875 \nL 56.390625 54.6875 \nL 27.390625 29.109375 \nL 57.625 0 \nL 45.90625 0 \nL 18.109375 26.703125 \nL 18.109375 0 \nL 9.078125 0 \nz\n\" id=\"DejaVuSans-107\"/>\n      <path d=\"M 9.8125 72.90625 \nL 19.671875 72.90625 \nL 19.671875 43.015625 \nL 55.515625 43.015625 \nL 55.515625 72.90625 \nL 65.375 72.90625 \nL 65.375 0 \nL 55.515625 0 \nL 55.515625 34.71875 \nL 19.671875 34.71875 \nL 19.671875 0 \nL 9.8125 0 \nz\n\" id=\"DejaVuSans-72\"/>\n      <path d=\"M 18.3125 70.21875 \nL 18.3125 54.6875 \nL 36.8125 54.6875 \nL 36.8125 47.703125 \nL 18.3125 47.703125 \nL 18.3125 18.015625 \nQ 18.3125 11.328125 20.140625 9.421875 \nQ 21.96875 7.515625 27.59375 7.515625 \nL 36.8125 7.515625 \nL 36.8125 0 \nL 27.59375 0 \nQ 17.1875 0 13.234375 3.875 \nQ 9.28125 7.765625 9.28125 18.015625 \nL 9.28125 47.703125 \nL 2.6875 47.703125 \nL 2.6875 54.6875 \nL 9.28125 54.6875 \nL 9.28125 70.21875 \nz\n\" id=\"DejaVuSans-116\"/>\n     </defs>\n     <g transform=\"translate(19.3575 344.29125)rotate(-90)scale(0.16 -0.16)\">\n      <use xlink:href=\"#DejaVuSans-78\"/>\n      <use x=\"74.804688\" xlink:href=\"#DejaVuSans-117\"/>\n      <use x=\"138.183594\" xlink:href=\"#DejaVuSans-109\"/>\n      <use x=\"235.595703\" xlink:href=\"#DejaVuSans-98\"/>\n      <use x=\"299.072266\" xlink:href=\"#DejaVuSans-101\"/>\n      <use x=\"360.595703\" xlink:href=\"#DejaVuSans-114\"/>\n      <use x=\"401.708984\" xlink:href=\"#DejaVuSans-32\"/>\n      <use x=\"433.496094\" xlink:href=\"#DejaVuSans-111\"/>\n      <use x=\"494.677734\" xlink:href=\"#DejaVuSans-102\"/>\n      <use x=\"529.882812\" xlink:href=\"#DejaVuSans-32\"/>\n      <use x=\"561.669922\" xlink:href=\"#DejaVuSans-66\"/>\n      <use x=\"630.273438\" xlink:href=\"#DejaVuSans-108\"/>\n      <use x=\"658.056641\" xlink:href=\"#DejaVuSans-111\"/>\n      <use x=\"719.238281\" xlink:href=\"#DejaVuSans-99\"/>\n      <use x=\"774.21875\" xlink:href=\"#DejaVuSans-107\"/>\n      <use x=\"832.082031\" xlink:href=\"#DejaVuSans-101\"/>\n      <use x=\"893.605469\" xlink:href=\"#DejaVuSans-100\"/>\n      <use x=\"957.082031\" xlink:href=\"#DejaVuSans-32\"/>\n      <use x=\"988.869141\" xlink:href=\"#DejaVuSans-72\"/>\n      <use x=\"1064.064453\" xlink:href=\"#DejaVuSans-111\"/>\n      <use x=\"1125.246094\" xlink:href=\"#DejaVuSans-115\"/>\n      <use x=\"1177.345703\" xlink:href=\"#DejaVuSans-116\"/>\n      <use x=\"1216.554688\" xlink:href=\"#DejaVuSans-115\"/>\n     </g>\n    </g>\n   </g>\n   <g id=\"line2d_33\">\n    <path clip-path=\"url(#p281b062b54)\" d=\"M 109.896818 45.124773 \nL 116.717292 320.126684 \nL 123.537765 336.80079 \nL 130.358239 346.708591 \nL 137.178713 357.0997 \nL 143.999186 366.765849 \nL 150.81966 376.190343 \nL 157.640134 387.306413 \nL 164.460607 396.972561 \nL 171.281081 401.563981 \nL 178.101555 405.430441 \nL 184.922028 407.846978 \nL 191.742502 408.813592 \nL 198.562976 410.505168 \nL 205.383449 412.196744 \nL 212.203923 412.438398 \nL 219.024396 412.921705 \nL 225.84487 413.646666 \nL 232.665344 414.371628 \nL 239.485817 414.613281 \nL 246.306291 415.579896 \nL 253.126765 416.063203 \nL 259.947238 416.546511 \nL 266.767712 417.029818 \nL 273.588186 418.238087 \nL 280.408659 419.446355 \nL 287.229133 420.41297 \nL 294.049607 422.104546 \nL 300.87008 423.312815 \nL 307.690554 424.762737 \nL 314.511028 426.93762 \nL 321.331501 428.145889 \nL 328.151975 429.595811 \nL 334.972448 430.804079 \nL 341.792922 431.287387 \nL 348.613396 431.52904 \nL 355.433869 432.012348 \nL 362.254343 432.254001 \nL 369.074817 432.495655 \nL 375.89529 433.220616 \nL 382.715764 433.945577 \nL 389.536238 433.945577 \nL 396.356711 433.945577 \nL 403.177185 434.187231 \nL 409.997659 434.187231 \nL 416.818132 434.187231 \nL 423.638606 434.187231 \nL 430.459079 434.187231 \nL 437.279553 434.187231 \nL 444.100027 434.187231 \nL 450.9205 434.187231 \nL 457.740974 434.670538 \nL 464.561448 434.670538 \nL 471.381921 434.912192 \nL 478.202395 434.912192 \nL 485.022869 434.912192 \nL 491.843342 434.912192 \nL 498.663816 435.153846 \nL 505.48429 435.153846 \nL 512.304763 435.153846 \nL 519.125237 435.153846 \nL 525.94571 435.153846 \nL 532.766184 435.3955 \nL 539.586658 435.878807 \nL 546.407131 436.362114 \nL 553.227605 436.362114 \nL 560.048079 436.603768 \nL 566.868552 436.603768 \nL 573.689026 436.603768 \nL 580.5095 436.603768 \nL 587.329973 436.603768 \nL 594.150447 436.603768 \nL 600.970921 436.603768 \nL 607.791394 436.603768 \nL 614.611868 436.603768 \nL 621.432341 436.603768 \nL 628.252815 436.603768 \nL 635.073289 436.845422 \nL 641.893762 436.845422 \nL 648.714236 436.845422 \nL 655.53471 436.845422 \nL 662.355183 437.087075 \nL 669.175657 437.328729 \nL 675.996131 437.570383 \nL 682.816604 437.570383 \nL 689.637078 437.570383 \nL 696.457552 438.05369 \nL 703.278025 438.295344 \nL 710.098499 438.778651 \nL 716.918972 439.020305 \nL 723.739446 439.020305 \nL 730.55992 439.020305 \nL 737.380393 439.020305 \nL 744.200867 439.261959 \nL 751.021341 439.261959 \nL 757.841814 439.503612 \nL 764.662288 439.503612 \nL 771.482762 439.503612 \nL 778.303235 439.503612 \nL 785.123709 439.745266 \nL 791.944183 439.745266 \nL 798.764656 439.98692 \nL 805.58513 439.98692 \nL 812.405604 439.98692 \nL 819.226077 439.98692 \nL 826.046551 439.98692 \nL 832.867024 439.98692 \nL 839.687498 439.98692 \nL 846.507972 439.98692 \nL 853.328445 439.98692 \nL 860.148919 440.228574 \nL 866.969393 440.228574 \nL 873.789866 440.228574 \nL 880.61034 440.228574 \nL 887.430814 440.228574 \nL 894.251287 440.228574 \nL 901.071761 440.228574 \nL 907.892235 440.470227 \nL 914.712708 440.470227 \nL 921.533182 440.470227 \n\" style=\"fill:none;stroke:#1f77b4;stroke-linecap:square;stroke-width:3;\"/>\n   </g>\n   <g id=\"patch_3\">\n    <path d=\"M 69.315 460.2375 \nL 69.315 25.3575 \n\" style=\"fill:none;stroke:#000000;stroke-linecap:square;stroke-linejoin:miter;stroke-width:0.8;\"/>\n   </g>\n   <g id=\"patch_4\">\n    <path d=\"M 962.115 460.2375 \nL 962.115 25.3575 \n\" style=\"fill:none;stroke:#000000;stroke-linecap:square;stroke-linejoin:miter;stroke-width:0.8;\"/>\n   </g>\n   <g id=\"patch_5\">\n    <path d=\"M 69.315 460.2375 \nL 962.115 460.2375 \n\" style=\"fill:none;stroke:#000000;stroke-linecap:square;stroke-linejoin:miter;stroke-width:0.8;\"/>\n   </g>\n   <g id=\"patch_6\">\n    <path d=\"M 69.315 25.3575 \nL 962.115 25.3575 \n\" style=\"fill:none;stroke:#000000;stroke-linecap:square;stroke-linejoin:miter;stroke-width:0.8;\"/>\n   </g>\n   <g id=\"text_19\">\n    <!-- Sensitivity of Bro's Detection Algorithm -->\n    <defs>\n     <path d=\"M 53.515625 70.515625 \nL 53.515625 60.890625 \nQ 47.90625 63.578125 42.921875 64.890625 \nQ 37.9375 66.21875 33.296875 66.21875 \nQ 25.25 66.21875 20.875 63.09375 \nQ 16.5 59.96875 16.5 54.203125 \nQ 16.5 49.359375 19.40625 46.890625 \nQ 22.3125 44.4375 30.421875 42.921875 \nL 36.375 41.703125 \nQ 47.40625 39.59375 52.65625 34.296875 \nQ 57.90625 29 57.90625 20.125 \nQ 57.90625 9.515625 50.796875 4.046875 \nQ 43.703125 -1.421875 29.984375 -1.421875 \nQ 24.8125 -1.421875 18.96875 -0.25 \nQ 13.140625 0.921875 6.890625 3.21875 \nL 6.890625 13.375 \nQ 12.890625 10.015625 18.65625 8.296875 \nQ 24.421875 6.59375 29.984375 6.59375 \nQ 38.421875 6.59375 43.015625 9.90625 \nQ 47.609375 13.234375 47.609375 19.390625 \nQ 47.609375 24.75 44.3125 27.78125 \nQ 41.015625 30.8125 33.5 32.328125 \nL 27.484375 33.5 \nQ 16.453125 35.6875 11.515625 40.375 \nQ 6.59375 45.0625 6.59375 53.421875 \nQ 6.59375 63.09375 13.40625 68.65625 \nQ 20.21875 74.21875 32.171875 74.21875 \nQ 37.3125 74.21875 42.625 73.28125 \nQ 47.953125 72.359375 53.515625 70.515625 \nz\n\" id=\"DejaVuSans-83\"/>\n     <path d=\"M 54.890625 33.015625 \nL 54.890625 0 \nL 45.90625 0 \nL 45.90625 32.71875 \nQ 45.90625 40.484375 42.875 44.328125 \nQ 39.84375 48.1875 33.796875 48.1875 \nQ 26.515625 48.1875 22.3125 43.546875 \nQ 18.109375 38.921875 18.109375 30.90625 \nL 18.109375 0 \nL 9.078125 0 \nL 9.078125 54.6875 \nL 18.109375 54.6875 \nL 18.109375 46.1875 \nQ 21.34375 51.125 25.703125 53.5625 \nQ 30.078125 56 35.796875 56 \nQ 45.21875 56 50.046875 50.171875 \nQ 54.890625 44.34375 54.890625 33.015625 \nz\n\" id=\"DejaVuSans-110\"/>\n     <path d=\"M 9.421875 54.6875 \nL 18.40625 54.6875 \nL 18.40625 0 \nL 9.421875 0 \nz\nM 9.421875 75.984375 \nL 18.40625 75.984375 \nL 18.40625 64.59375 \nL 9.421875 64.59375 \nz\n\" id=\"DejaVuSans-105\"/>\n     <path d=\"M 2.984375 54.6875 \nL 12.5 54.6875 \nL 29.59375 8.796875 \nL 46.6875 54.6875 \nL 56.203125 54.6875 \nL 35.6875 0 \nL 23.484375 0 \nz\n\" id=\"DejaVuSans-118\"/>\n     <path d=\"M 32.171875 -5.078125 \nQ 28.375 -14.84375 24.75 -17.8125 \nQ 21.140625 -20.796875 15.09375 -20.796875 \nL 7.90625 -20.796875 \nL 7.90625 -13.28125 \nL 13.1875 -13.28125 \nQ 16.890625 -13.28125 18.9375 -11.515625 \nQ 21 -9.765625 23.484375 -3.21875 \nL 25.09375 0.875 \nL 2.984375 54.6875 \nL 12.5 54.6875 \nL 29.59375 11.921875 \nL 46.6875 54.6875 \nL 56.203125 54.6875 \nz\n\" id=\"DejaVuSans-121\"/>\n     <path d=\"M 17.921875 72.90625 \nL 17.921875 45.796875 \nL 9.625 45.796875 \nL 9.625 72.90625 \nz\n\" id=\"DejaVuSans-39\"/>\n     <path d=\"M 19.671875 64.796875 \nL 19.671875 8.109375 \nL 31.59375 8.109375 \nQ 46.6875 8.109375 53.6875 14.9375 \nQ 60.6875 21.78125 60.6875 36.53125 \nQ 60.6875 51.171875 53.6875 57.984375 \nQ 46.6875 64.796875 31.59375 64.796875 \nz\nM 9.8125 72.90625 \nL 30.078125 72.90625 \nQ 51.265625 72.90625 61.171875 64.09375 \nQ 71.09375 55.28125 71.09375 36.53125 \nQ 71.09375 17.671875 61.125 8.828125 \nQ 51.171875 0 30.078125 0 \nL 9.8125 0 \nz\n\" id=\"DejaVuSans-68\"/>\n     <path d=\"M 34.1875 63.1875 \nL 20.796875 26.90625 \nL 47.609375 26.90625 \nz\nM 28.609375 72.90625 \nL 39.796875 72.90625 \nL 67.578125 0 \nL 57.328125 0 \nL 50.6875 18.703125 \nL 17.828125 18.703125 \nL 11.1875 0 \nL 0.78125 0 \nz\n\" id=\"DejaVuSans-65\"/>\n     <path d=\"M 45.40625 27.984375 \nQ 45.40625 37.75 41.375 43.109375 \nQ 37.359375 48.484375 30.078125 48.484375 \nQ 22.859375 48.484375 18.828125 43.109375 \nQ 14.796875 37.75 14.796875 27.984375 \nQ 14.796875 18.265625 18.828125 12.890625 \nQ 22.859375 7.515625 30.078125 7.515625 \nQ 37.359375 7.515625 41.375 12.890625 \nQ 45.40625 18.265625 45.40625 27.984375 \nz\nM 54.390625 6.78125 \nQ 54.390625 -7.171875 48.1875 -13.984375 \nQ 42 -20.796875 29.203125 -20.796875 \nQ 24.46875 -20.796875 20.265625 -20.09375 \nQ 16.0625 -19.390625 12.109375 -17.921875 \nL 12.109375 -9.1875 \nQ 16.0625 -11.328125 19.921875 -12.34375 \nQ 23.78125 -13.375 27.78125 -13.375 \nQ 36.625 -13.375 41.015625 -8.765625 \nQ 45.40625 -4.15625 45.40625 5.171875 \nL 45.40625 9.625 \nQ 42.625 4.78125 38.28125 2.390625 \nQ 33.9375 0 27.875 0 \nQ 17.828125 0 11.671875 7.65625 \nQ 5.515625 15.328125 5.515625 27.984375 \nQ 5.515625 40.671875 11.671875 48.328125 \nQ 17.828125 56 27.875 56 \nQ 33.9375 56 38.28125 53.609375 \nQ 42.625 51.21875 45.40625 46.390625 \nL 45.40625 54.6875 \nL 54.390625 54.6875 \nz\n\" id=\"DejaVuSans-103\"/>\n    </defs>\n    <g transform=\"translate(358.10625 19.3575)scale(0.16 -0.16)\">\n     <use xlink:href=\"#DejaVuSans-83\"/>\n     <use x=\"63.476562\" xlink:href=\"#DejaVuSans-101\"/>\n     <use x=\"125\" xlink:href=\"#DejaVuSans-110\"/>\n     <use x=\"188.378906\" xlink:href=\"#DejaVuSans-115\"/>\n     <use x=\"240.478516\" xlink:href=\"#DejaVuSans-105\"/>\n     <use x=\"268.261719\" xlink:href=\"#DejaVuSans-116\"/>\n     <use x=\"307.470703\" xlink:href=\"#DejaVuSans-105\"/>\n     <use x=\"335.253906\" xlink:href=\"#DejaVuSans-118\"/>\n     <use x=\"394.433594\" xlink:href=\"#DejaVuSans-105\"/>\n     <use x=\"422.216797\" xlink:href=\"#DejaVuSans-116\"/>\n     <use x=\"461.425781\" xlink:href=\"#DejaVuSans-121\"/>\n     <use x=\"520.605469\" xlink:href=\"#DejaVuSans-32\"/>\n     <use x=\"552.392578\" xlink:href=\"#DejaVuSans-111\"/>\n     <use x=\"613.574219\" xlink:href=\"#DejaVuSans-102\"/>\n     <use x=\"648.779297\" xlink:href=\"#DejaVuSans-32\"/>\n     <use x=\"680.566406\" xlink:href=\"#DejaVuSans-66\"/>\n     <use x=\"749.169922\" xlink:href=\"#DejaVuSans-114\"/>\n     <use x=\"790.251953\" xlink:href=\"#DejaVuSans-111\"/>\n     <use x=\"851.433594\" xlink:href=\"#DejaVuSans-39\"/>\n     <use x=\"878.923828\" xlink:href=\"#DejaVuSans-115\"/>\n     <use x=\"931.023438\" xlink:href=\"#DejaVuSans-32\"/>\n     <use x=\"962.810547\" xlink:href=\"#DejaVuSans-68\"/>\n     <use x=\"1039.8125\" xlink:href=\"#DejaVuSans-101\"/>\n     <use x=\"1101.335938\" xlink:href=\"#DejaVuSans-116\"/>\n     <use x=\"1140.544922\" xlink:href=\"#DejaVuSans-101\"/>\n     <use x=\"1202.068359\" xlink:href=\"#DejaVuSans-99\"/>\n     <use x=\"1257.048828\" xlink:href=\"#DejaVuSans-116\"/>\n     <use x=\"1296.257812\" xlink:href=\"#DejaVuSans-105\"/>\n     <use x=\"1324.041016\" xlink:href=\"#DejaVuSans-111\"/>\n     <use x=\"1385.222656\" xlink:href=\"#DejaVuSans-110\"/>\n     <use x=\"1448.601562\" xlink:href=\"#DejaVuSans-32\"/>\n     <use x=\"1480.388672\" xlink:href=\"#DejaVuSans-65\"/>\n     <use x=\"1548.796875\" xlink:href=\"#DejaVuSans-108\"/>\n     <use x=\"1576.580078\" xlink:href=\"#DejaVuSans-103\"/>\n     <use x=\"1640.056641\" xlink:href=\"#DejaVuSans-111\"/>\n     <use x=\"1701.238281\" xlink:href=\"#DejaVuSans-114\"/>\n     <use x=\"1742.351562\" xlink:href=\"#DejaVuSans-105\"/>\n     <use x=\"1770.134766\" xlink:href=\"#DejaVuSans-116\"/>\n     <use x=\"1809.34375\" xlink:href=\"#DejaVuSans-104\"/>\n     <use x=\"1872.722656\" xlink:href=\"#DejaVuSans-109\"/>\n    </g>\n   </g>\n  </g>\n </g>\n <defs>\n  <clipPath id=\"p281b062b54\">\n   <rect height=\"434.88\" width=\"892.8\" x=\"69.315\" y=\"25.3575\"/>\n  </clipPath>\n </defs>\n</svg>\n",
      "text/plain": "<Figure size 1152x576 with 1 Axes>"
     },
     "metadata": {
      "needs_background": "light"
     },
     "output_type": "display_data"
    }
   ],
   "source": [
    "%matplotlib inline\n",
    "from plotting import plot_bro\n",
    "\n",
    "# TODO: generate the list described above\n",
    "num_blocked_hosts = [len(run_bro(i)) for i in range(120)]\n",
    "\n",
    "    \n",
    "# TODO: pass the list to the plot_bro function\n",
    "plot_bro(num_blocked_hosts)"
   ]
  },
  {
   "cell_type": "markdown",
   "metadata": {},
   "source": [
    "_____\n",
    "##### Question:\n",
    "A threshold of 100 is the default for Bro's algorithm. Given the results in the above plot, why do you think this value was chosen?  What are the pros and cons of choosing a higher or lower threshold?"
   ]
  },
  {
   "cell_type": "markdown",
   "metadata": {},
   "source": [
    "##### Answer:\n",
    "A lower threshold means there will be more false positives, but at the same time, fewer actual malicous hosts will escape being blocked.\n",
    "A higher threshold means more hosts that are actually not malicous may be blocked, but those that are blocked are more likely to be actually malicous."
   ]
  },
  {
   "cell_type": "markdown",
   "metadata": {},
   "source": [
    "##### Question:\n",
    "A threshold of 100 would have blocked $\\approx$115 hosts (if your implementation didn't, you should check it for bugs).  This is many fewer hosts than the number of malicious hosts found in Part B.  What differences between Bro's algorithm and the method usd in Part B caused this difference? Which method do you think is more likely to be accurate? Why?"
   ]
  },
  {
   "cell_type": "markdown",
   "metadata": {},
   "source": [
    "##### Answer:\n",
    "In part B, any host that sent SYN-only or known bad port flows would be considered as a malicous host, whereas Bro's algorithm's criteria for a bad host is more strict, requiring the number of destination host to be more than the threshold(in this case 100).\n",
    "\n",
    "I think the Bro algorithm is more likely to be accurate because a normal host may also send packets to the bad ports and considering any host that displayed malicious behavior even just once to be malicious is a little too loose."
   ]
  },
  {
   "cell_type": "markdown",
   "metadata": {},
   "source": [
    "___________"
   ]
  },
  {
   "cell_type": "markdown",
   "metadata": {},
   "source": [
    "There are many other online port scan detection algorithms in addition to Bro. For example, the Threshold Random Walk (TRW) algorithm uses maximum likelihood ratios to tune the threshold parameter in an attempt to block as much malicious traffic as possible without blacklisting benign hosts. \n",
    "\n",
    "If you are curious, the TRW algorithm is described in this paper: http://www.icir.org/vern/papers/portscan-oak04.pdf. "
   ]
  },
  {
   "cell_type": "markdown",
   "metadata": {},
   "source": [
    "## Submission"
   ]
  },
  {
   "cell_type": "markdown",
   "metadata": {},
   "source": [
    "\n",
    "**Remember to \"Save and Checkpoint\" (from the \"File\" menu above) before you leave the notebook or close your tab.**\n",
    "\n",
    "Submit this file (hw3_notebook.ipynb) via Collab. Remember to put your name and computing ID in the marked location at the top of this file. "
   ]
  }
 ],
 "metadata": {
  "kernelspec": {
   "display_name": "Python 3",
   "language": "python",
   "name": "python3"
  },
  "language_info": {
   "codemirror_mode": {
    "name": "ipython",
    "version": 3
   },
   "file_extension": ".py",
   "mimetype": "text/x-python",
   "name": "python",
   "nbconvert_exporter": "python",
   "pygments_lexer": "ipython3",
   "version": "3.7.6-final"
  }
 },
 "nbformat": 4,
 "nbformat_minor": 1
}